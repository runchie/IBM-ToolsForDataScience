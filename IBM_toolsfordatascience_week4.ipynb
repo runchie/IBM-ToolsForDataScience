{
 "cells": [
  {
   "cell_type": "markdown",
   "id": "e3e23438-53e1-47ab-82ab-71dc1b2734b3",
   "metadata": {},
   "source": [
    "# My Jupyter Notebook on IBM Data Science Experience"
   ]
  },
  {
   "cell_type": "markdown",
   "id": "67b04e39-932d-4c32-ac1a-b6dd0bbbcb8b",
   "metadata": {},
   "source": [
    "**Runchana Rungruangmaitree**"
   ]
  },
  {
   "cell_type": "markdown",
   "id": "09e5408c-6a4f-4a4b-b0d5-d7dfcf1aec30",
   "metadata": {},
   "source": [
    "current occupation: fresh MSc grad, still unemployed. :("
   ]
  },
  {
   "cell_type": "markdown",
   "id": "01194312-f2a0-4f5e-8cf1-4931c55f8aee",
   "metadata": {},
   "source": [
    "*I am interested in data science because it can broaden my horizons in the field of bioinformatics. I believe that it will help me land a highly paid job in the near future.*"
   ]
  },
  {
   "cell_type": "markdown",
   "id": "fd1bbc53-8108-42d5-a699-3022da4bb4bb",
   "metadata": {},
   "source": [
    "### My code below is going to explain how "
   ]
  },
  {
   "cell_type": "code",
   "execution_count": 5,
   "id": "2420287b-41e5-43ed-a898-b4db9a41e47f",
   "metadata": {},
   "outputs": [
    {
     "name": "stdout",
     "output_type": "stream",
     "text": [
      "0 is zero\n",
      "-15 is negative\n"
     ]
    }
   ],
   "source": [
    "def inspect(x):\n",
    "    if x == 0:\n",
    "        print(x, \"is zero\")\n",
    "    elif x > 0:\n",
    "        print(x, \"is positive\")\n",
    "    elif x < 0:\n",
    "        print(x, \"is negative\")\n",
    "    else:\n",
    "        print(x, \"is unlike anything I've ever seen...\")\n",
    "\n",
    "inspect(0)\n",
    "inspect(-15)"
   ]
  },
  {
   "cell_type": "markdown",
   "id": "f67e664b-090f-4442-928a-37a79365b1b4",
   "metadata": {},
   "source": [
    "## **<dl> These are the list of questions in my head right now. </dl>** ##\n",
    "<li> Should I <s>give up</s> keep practicing? </li>\n",
    "<li> How do I make a study plan for data science if I have a full time job?</li>\n",
    "\n",
    "\n",
    "<blockquote> Please grade me I need to pass this course. TT-TT </blockquote>\n",
    "\n",
    "<p style=\"color:red;\"> Thank you...</p>"
   ]
  }
 ],
 "metadata": {
  "kernelspec": {
   "display_name": "Python",
   "language": "python",
   "name": "conda-env-python-py"
  },
  "language_info": {
   "codemirror_mode": {
    "name": "ipython",
    "version": 3
   },
   "file_extension": ".py",
   "mimetype": "text/x-python",
   "name": "python",
   "nbconvert_exporter": "python",
   "pygments_lexer": "ipython3",
   "version": "3.7.12"
  }
 },
 "nbformat": 4,
 "nbformat_minor": 5
}
